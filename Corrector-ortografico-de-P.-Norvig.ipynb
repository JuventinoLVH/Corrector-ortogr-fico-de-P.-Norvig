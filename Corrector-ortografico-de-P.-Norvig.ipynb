{
 "cells": [
  {
   "attachments": {},
   "cell_type": "markdown",
   "metadata": {},
   "source": [
    "# Corrector-ortografico-de-P.-Norvig\n",
    "--- \n",
    "\n",
    "\n",
    "---\n",
    "### Tarea\n",
    "- Adapta la función edits1, edits2 para sin considerar la opción de \"transpose\"\n",
    "- Programa una tercera función edits3\n",
    "- Justifica porqué las funciones edits1, edits2 nos regresan efectivamente las palabras a \"distancia\" 1 y 2 respectivamente de una palabra dada\n",
    "- Adapta todas las funciones edits para el caso del alfabeto en español\n",
    "- Prueba tu corrector con tu propio big.txt (no olvides poner la referencia)\n",
    "- Describe con tus palabras el significado de P(w|c) y P(c|w) ¿porqué es razonable considerar a P(w|c) como el error del modelo\n",
    "- A qué se refiere Norvig en el punto 4 por \"data on spelling errors\" ¿qué tiene qué ver eso con el error del modelo?\n",
    "- Explica el procedimiento de Norvig para evaluar el modelo\n",
    "- Escribe cuidadosamente tus conclusiones\n",
    "\n",
    "### Equipo cangrejo      \n",
    "* Montaño Preciado Alondra Karolina\n",
    "* Velasquez Hidalgo Luis Juventino\n",
    "* Navarro Lopez Malcom Hiram\n",
    "* Faz Leal Juan Carlos\n",
    "\n",
    "\n",
    "### Fuentes\n",
    "- Libreta de Jupyter de Norbing: https://norvig.com/spell-correct.html"
   ]
  },
  {
   "attachments": {},
   "cell_type": "markdown",
   "metadata": {},
   "source": [
    "\n",
    "## **Funciones y utilidades usadas en la implementacion**"
   ]
  },
  {
   "cell_type": "code",
   "execution_count": 6,
   "metadata": {},
   "outputs": [],
   "source": [
    "import re\n",
    "from collections import Counter\n"
   ]
  },
  {
   "attachments": {},
   "cell_type": "markdown",
   "metadata": {},
   "source": [
    "### `Selection Mechanism`\n",
    "___\n",
    "Explicar a que se refiere con mecanismo de seleccion y la funcion \n",
    "(Explicar la funcion como si fuera tarea de Irene, plox ) "
   ]
  },
  {
   "cell_type": "code",
   "execution_count": 7,
   "metadata": {},
   "outputs": [],
   "source": [
    "def correction(word): \n",
    "    \"Most probable spelling correction for word.\"\n",
    "    return max(candidates(word), key=P)"
   ]
  },
  {
   "attachments": {},
   "cell_type": "markdown",
   "metadata": {},
   "source": [
    "### `Candidate Model`\n",
    "___\n",
    "\n",
    "\n",
    "- recorre la lista de palabras y verifica si se encuentran en el diccionario, si se encuentra, se agrega al conjunto de palabras conocidas que se devuelve. known(words) WORDS \n",
    "- edits1(word): Es una función que toma una palabra y devuelve un conjunto de palabras que están a una edición de distancia de dada palabra. Las ediciones se incluyen en la parte del código. \n",
    "- edits2(word): Es una función que toma una palabra y devuelve un generador de palabras que están a dos ediciones de distancia de dicha palabra, se usa para calcular las palabras que están a una distancia de edición y luego la aplica a cada palabra para calcular a las que están a dos ediciones de distancia.\n",
    "- edits3(word): Identica a edits2, pero usando 'edit2' en vez de 'edit1'"
   ]
  },
  {
   "cell_type": "code",
   "execution_count": 29,
   "metadata": {},
   "outputs": [],
   "source": [
    "def known(words): \n",
    "    \"The subset of `words` that appear in the dictionary of WORDS.\"\n",
    "    return set(w for w in words if w in WORDS)\n",
    "\n",
    "\n",
    "def edits1(word):\n",
    "    \"All edits that are one edit away from `word`.\"\n",
    "    letters    = 'abcdefghijklmnopqrstuvwxyzñáéíóú'\n",
    "    splits     = [(word[:i], word[i:])    for i in range(1,len(word))]\n",
    "    deletes    = [L + R[1:]               for L, R in splits if R]\n",
    "    replaces   = [L + c + R[1:]           for L, R in splits if R for c in letters if c != R[0]]\n",
    "    inserts    = [L + c + R               for L, R in splits for c in letters]\n",
    "    return set(deletes  + replaces + inserts)\n",
    "\n",
    "def edits2(word): \n",
    "    \"All edits that are two edits away from `word`.\"\n",
    "    return (e2 for e1 in edits1(word) for e2 in edits1(e1))\n",
    "\n",
    "def edits3(word): \n",
    "    \"All edits that are two edits away from `word`.\"\n",
    "    return (e3 for e2 in edits2(word) for e3 in edits2(e2))"
   ]
  },
  {
   "cell_type": "code",
   "execution_count": 30,
   "metadata": {},
   "outputs": [
    {
     "name": "stdout",
     "output_type": "stream",
     "text": [
      "{'hoqla', 'holñ', 'hovla', 'holb', 'hoca', 'hopla', 'hmla', 'holqa', 'homa', 'holóa', 'holaa', 'hzola', 'homla', 'hoála', 'hxola', 'howla', 'hofla', 'hlola', 'hála', 'húola', 'hula', 'holva', 'hjla', 'holl', 'holúa', 'houa', 'hpola', 'hhola', 'holf', 'hosla', 'hrla', 'hoa', 'hiola', 'hnola', 'hora', 'hogla', 'houla', 'holq', 'holg', 'hla', 'holx', 'hoya', 'hsola', 'hoía', 'hova', 'hotla', 'hhla', 'hoóa', 'hoáa', 'holia', 'holpa', 'hila', 'hvola', 'hoéla', 'holra', 'hozla', 'héla', 'holma', 'holea', 'holo', 'hpla', 'hona', 'hosa', 'holía', 'holj', 'hsla', 'holya', 'hyola', 'holz', 'holáa', 'hmola', 'hóla', 'holw', 'híola', 'hoñla', 'hcla', 'hoba', 'holda', 'hoela', 'hojla', 'hvla', 'howa', 'hooa', 'holna', 'hoxla', 'holka', 'holca', 'holba', 'holó', 'holv', 'holp', 'holza', 'hala', 'héola', 'hohla', 'holé', 'hoala', 'holta', 'hoúa', 'hopa', 'holt', 'hwla', 'hoila', 'hols', 'holn', 'holí', 'hcola', 'hoyla', 'holéa', 'holla', 'holc', 'hgla', 'hoxa', 'holá', 'hwola', 'hñola', 'hokla', 'holsa', 'hocla', 'holha', 'holwa', 'holoa', 'honla', 'holga', 'hlla', 'hxla', 'hoga', 'hoea', 'holua', 'hoúla', 'hota', 'holr', 'hbola', 'hrola', 'hoóla', 'hqla', 'hkola', 'holfa', 'htla', 'holk', 'hodla', 'hdola', 'holi', 'hoña', 'hofa', 'háola', 'hoka', 'hgola', 'hobla', 'holña', 'hoza', 'hoia', 'hela', 'hfla', 'hyla', 'hdla', 'hole', 'heola', 'húla', 'hqola', 'holh', 'hoéa', 'hold', 'huola', 'hóola', 'hoqa', 'hkla', 'holm', 'hjola', 'hnla', 'haola', 'hoha', 'hbla', 'hzla', 'hoda', 'hoola', 'hoja', 'hoíla', 'holu', 'htola', 'hñla', 'holú', 'hfola', 'hoaa', 'holy', 'holja', 'holxa', 'hol', 'híla', 'horla'}\n"
     ]
    }
   ],
   "source": [
    "pal = \"hola\"\n",
    "print(edits1(pal))"
   ]
  },
  {
   "attachments": {},
   "cell_type": "markdown",
   "metadata": {},
   "source": [
    "### `Language Model`\n",
    "___\n",
    "Explicar a que se refiere con mecanismo de seleccion y la funcion \n",
    "(Explicar la funcion como si fuera tarea de Irene, plox )\n"
   ]
  },
  {
   "cell_type": "code",
   "execution_count": 14,
   "metadata": {},
   "outputs": [],
   "source": [
    "def words(text): return re.findall(r'\\w+', text.lower())\n",
    "\n",
    "WORDS = Counter(words(open('primer_capitulo.txt',encoding=\"UTF8\").read()))\n",
    "\n",
    "def P(word, N=sum(WORDS.values())): \n",
    "    \"Probability of `word`.\"\n",
    "    return WORDS[word] / N\n"
   ]
  },
  {
   "attachments": {},
   "cell_type": "markdown",
   "metadata": {},
   "source": [
    "### `Error model`\n",
    "___\n",
    "Explicar a que se refiere con mecanismo de seleccion y la funcion \n",
    "(Explicar la funcion como si fuera tarea de Irene, plox ) "
   ]
  },
  {
   "cell_type": "code",
   "execution_count": 15,
   "metadata": {},
   "outputs": [],
   "source": [
    "def candidates(word): \n",
    "    \"Generate possible spelling corrections for word.\"\n",
    "    return (known([word]) or known(edits1(word)) or known(edits2(word)) or [word])"
   ]
  },
  {
   "attachments": {},
   "cell_type": "markdown",
   "metadata": {},
   "source": [
    "## **Evaluacion usando ...Queda pendiente el texto a usar...**\n",
    "---\n"
   ]
  },
  {
   "cell_type": "code",
   "execution_count": 22,
   "metadata": {},
   "outputs": [
    {
     "name": "stdout",
     "output_type": "stream",
     "text": [
      "Counter({'de': 235, 'que': 185, 'y': 170, 'el': 115, 'en': 114, 'la': 105, 'a': 76, 'no': 52, 'por': 46, 'los': 44, 'las': 41, 'se': 40, 'lo': 40, 'del': 29, 'con': 28, 'libro': 27, 'un': 26, 'al': 26, 'para': 26, 'os': 26, 'ni': 24, 'si': 23, 'o': 21, 'más': 19, 'como': 18, 'tan': 18, 'le': 16, 'me': 16, 'yo': 15, 'su': 15, 'don': 13, 'dicho': 13, 'cual': 13, 'vos': 13, 'quien': 13, 'qué': 13, 'te': 13, 'quijote': 12, 'sin': 12, 'vuestra': 12, 'mi': 12, 'es': 12, 'tiene': 11, 'libros': 10, 'historia': 10, 'una': 10, 'todo': 10, 'mancha': 9, 'bien': 9, 'hacer': 9, 'porque': 9, 'rey': 8, 'nuestro': 8, 'esta': 8, 'años': 8, 'vuestro': 8, 'sus': 8, 'esto': 8, 'ingenioso': 7, 'principio': 7, 'fue': 7, 'nuestra': 7, 'otra': 7, 'él': 7, 'menos': 7, 'amigo': 7, 'autores': 7, 'pues': 7, 'hidalgo': 6, 'juan': 6, 'señor': 6, 'cada': 6, 'ha': 6, 'este': 6, 'dios': 6, 'parte': 6, 'todos': 6, 'fin': 6, 'aunque': 6, 'sino': 6, 'sé': 6, 'gutenberg': 5, 'ebook': 5, 'miguel': 5, 'cervantes': 5, 'consejo': 5, 'ella': 5, 'cosa': 5, 'original': 5, 'imprimir': 5, 'tiempo': 5, 'dicha': 5, 'todas': 5, 'así': 5, 'toda': 5, 'he': 5, 'luz': 5, 'donde': 5, 'otros': 5, 'tu': 5, 'cuando': 5, 'poner': 5, 'hay': 5, 'tal': 5, 'the': 4, 'project': 4, 'of': 4, 'saavedra': 4, 'tasa': 4, 'fe': 4, 'maravedís': 4, 'vender': 4, 'mil': 4, 'cuanto': 4, 'nos': 4, 'trabajo': 4, 'dar': 4, 'poder': 4, 'impresión': 4, 'cédula': 4, 'persona': 4, 'hace': 4, 'pena': 4, 'está': 4, 'cómo': 4, 'otro': 4, 'manera': 4, 'nombre': 4, 'suelen': 4, 'ojos': 4, 'prólogo': 4, 'hijo': 4, 'pero': 4, 'son': 4, 'cuenta': 4, 'decir': 4, 'sólo': 4, 'sonetos': 4, 'dirá': 4, 'sentencias': 4, 'tienen': 4, 'escritura': 4, 'mí': 4, 'dijo': 4, 'podéis': 4, 'luego': 4, 'tratáredes': 4, 'nada': 4, 'buena': 4, 'by': 3, 'this': 3, 'it': 3, 'gallo': 3, 'andrada': 3, 'cámara': 3, 'visto': 3, 'dél': 3, 'intitulado': 3, 'pliego': 3, 'tres': 3, 'precio': 3, 'licencia': 3, 'pueda': 3, 'ponga': 3, 'cuatro': 3, 'erratas': 3, 'primero': 3, 'fecha': 3, 'estos': 3, 'desta': 3, 'tener': 3, 'imprimiere': 3, 'hiciere': 3, 'mesmo': 3, 'della': 3, 'tercia': 3, 'saber': 3, 'alguno': 3, 'hasta': 3, 'buen': 3, 'excelencia': 3, 'servicio': 3, 'vulgo': 3, 'sacar': 3, 'sombra': 3, 'lector': 3, 'discreto': 3, 'mal': 3, 'mío': 3, 'grande': 3, 'mundo': 3, 'amor': 3, 'vea': 3, 'faltas': 3, 'amigos': 3, 'quiero': 3, 'hacen': 3, 'algún': 3, 'noble': 3, 'caballero': 3, 'queréis': 3, 'falta': 3, 'márgenes': 3, 'anotaciones': 3, 'sean': 3, 'aristóteles': 3, 'divina': 3, 'letras': 3, 'poetas': 3, 'dos': 3, 'cielo': 3, 'faltan': 3, 'habéis': 3, 'poco': 3, 'verdad': 3, 'decís': 3, 'famoso': 3, 'mismo': 3, 'dará': 3, 'gigante': 3, 'anotación': 3, 'simple': 3, 'caballerías': 3, 'fuere': 3, 'ma': 3, 'use': 2, 'at': 2, 'and': 2, 'with': 2, 'or': 2, 'date': 2, 'file': 2, 'escribano': 2, 'residen': 2, 'doy': 2, 'compuesto': 2, 'medio': 2, 'pliegos': 2, 'papel': 2, 'di': 2, 'valladolid': 2, 'veinte': 2, 'días': 2, 'mes': 2, 'seiscientos': 2, 'testimonio': 2, 'haber': 2, 'francisco': 2, 'llana': 2, 'había': 2, 'mucho': 2, 'muy': 2, 'facultad': 2, 'merced': 2, 'hubiere': 2, 'alguna': 2, 'nuestros': 2, 'reinos': 2, 'diez': 2, 'desde': 2, 'día': 2, 'so': 2, 'sea': 2, 'tanto': 2, 'veces': 2, 'hubiéredes': 2, 'dichos': 2, 'traigáis': 2, 'va': 2, 'conforme': 2, 'mandado': 2, 'vio': 2, 'mandamos': 2, 'primer': 2, 'cuya': 2, 'antes': 2, 'estando': 2, 'hecho': 2, 'destos': 2, 'otras': 2, 'dellos': 2, 'béjar': 2, 'honra': 2, 'suerte': 2, 'buenas': 2, 'aquel': 2, 'erudición': 2, 'obras': 2, 'hombres': 2, 'parecer': 2, 'seguramente': 2, 'algunos': 2, 'poniendo': 2, 'quisiera': 2, 'entendimiento': 2, 'ingenio': 2, 'pensamientos': 2, 'nunca': 2, 'lugar': 2, 'contento': 2, 'padre': 2, 'soy': 2, 'casi': 2, 'eres': 2, 'libre': 2, 'pintado': 2, 'casa': 2, 'debajo': 2, 'temor': 2, 'catálogo': 2, 'epigramas': 2, 'elogios': 2, 'ninguno': 2, 'leyendo': 2, 'muchas': 2, 'pluma': 2, 'mano': 2, 'causa': 2, 'tenga': 2, 'tantos': 2, 'silencio': 2, 'ahora': 2, 'invención': 2, 'acotaciones': 2, 'veo': 2, 'están': 2, 'fabulosos': 2, 'caterva': 2, 'filósofos': 2, 'santos': 2, 'han': 2, 'enamorado': 2, 'cristiano': 2, 'carecer': 2, 'margen': 2, 'también': 2, 'damas': 2, 'tales': 2, 'aquellos': 2, 'cosas': 2, 'aquí': 2, 'nace': 2, 'oyendo': 2, 'risa': 2, 'agora': 2, 'prudente': 2, 'vuestras': 2, 'serlo': 2, 'posible': 2, 'remediar': 2, 'dificultades': 2, 'remedio': 2, 'decía': 2, 'modo': 2, 'dé': 2, 'mentira': 2, 'citar': 2, 'latines': 2, 'sepáis': 2, 'será': 2, 'palabras': 2, 'ahí': 2, 'eris': 2, 'poca': 2, 'golías': 2, 'tenéis': 2, 'gran': 2, 'escribe': 2, 'hombre': 2, 'río': 2, 'tajo': 2, 'famosa': 2, 'opinión': 2, 'prestará': 2, 'medidas': 2, 'necesidad': 2, 'habrá': 2, 'largo': 2, 'autoridad': 2, 'seguistes': 2, 'alcanzó': 2, 'mira': 2, 'muchos': 2, 'verás': 2, 'hallar': 2, 'letu': 2, 'mas': 2, 'manos': 2, 'bo': 2, 'árbol': 2, 'fortu': 2, 'is': 1, 'for': 1, 'anyone': 1, 'anywhere': 1, 'cost': 1, 'almost': 1, 'restrictions': 1, 'whatsoever': 1, 'you': 1, 'may': 1, 'copy': 1, 'give': 1, 'away': 1, 're': 1, 'under': 1, 'terms': 1, 'license': 1, 'included': 1, 'online': 1, 'www': 1, 'org': 1, 'title': 1, 'author': 1, 'posting': 1, 'april': 1, '27': 1, '2010': 1, '2000': 1, 'release': 1, 'december': 1, '1999': 1, 'language': 1, 'spanish': 1, 'start': 1, 'produced': 1, 'an': 1, 'anonymous': 1, 'volunteer': 1, 'text': 1, 'corrections': 1, 'new': 1, 'html': 1, 'joaquin': 1, 'cuenca': 1, 'abela': 1, 'certifico': 1, 'habiendo': 1, 'señores': 1, 'tasaron': 1, 'ochenta': 1, 'monta': 1, 'docientos': 1, 'noventa': 1, 'dieron': 1, 'mandaron': 1, 'dello': 1, 'conste': 1, 'presente': 1, 'deciembre': 1, 'digna': 1, 'corresponda': 1, 'correcto': 1, 'fee': 1, 'colegio': 1, 'madre': 1, 'teólogos': 1, 'universidad': 1, 'alcalá': 1, 'diciembre': 1, '1604': 1, 'licenciado': 1, 'murcia': 1, 'relación': 1, 'habíades': 1, 'costado': 1, 'era': 1, 'útil': 1, 'provechoso': 1, 'pedistes': 1, 'suplicastes': 1, 'mandásemos': 1, 'previlegio': 1, 'fuésemos': 1, 'servidos': 1, 'fuese': 1, 'hicieron': 1, 'diligencias': 1, 'premática': 1, 'últimamente': 1, 'sobre': 1, 'dispone': 1, 'acordado': 1, 'debíamos': 1, 'mandar': 1, 'razón': 1, 'tuvímoslo': 1, 'damos': 1, 'podáis': 1, 'desuso': 1, 'mención': 1, 'castilla': 1, 'espacio': 1, 'corran': 1, 'cuenten': 1, 'data': 1, 'personas': 1, 'vendiere': 1, 'caso': 1, 'pierda': 1, 'moldes': 1, 'aparejos': 1, 'incurra': 1, 'cincuenta': 1, 'vez': 1, 'contrario': 1, 'acusare': 1, 'juez': 1, 'sentenciare': 1, 'durante': 1, 'juntamente': 1, 'rubricado': 1, 'plana': 1, 'firmado': 1, 'pública': 1, 'forma': 1, 'corretor': 1, 'nombrado': 1, 'corrigió': 1, 'imprimió': 1, 'quedan': 1, 'impresas': 1, 'apuntadas': 1, 'fueren': 1, 'impresos': 1, 'tase': 1, 'volume': 1, 'impresor': 1, 'imprima': 1, 'entregue': 1, 'solo': 1, 'autor': 1, 'costa': 1, 'efeto': 1, 'correción': 1, 'esté': 1, 'corregido': 1, 'tasado': 1, 'sucesivamente': 1, 'aprobación': 1, 'caer': 1, 'e': 1, 'incurrir': 1, 'penas': 1, 'contenidas': 1, 'leyes': 1, 'premáticas': 1, 'cualesquier': 1, 'justicias': 1, 'guarden': 1, 'cumplan': 1, 'contenido': 1, 'seis': 1, 'setiembre': 1, 'amezqueta': 1, 'duque': 1, 'marqués': 1, 'gibraleón': 1, 'conde': 1, 'benalcázar': 1, 'bañares': 1, 'vizconde': 1, 'puebla': 1, 'alcocer': 1, 'villas': 1, 'capilla': 1, 'curiel': 1, 'burguillos': 1, 'acogimiento': 1, 'príncipe': 1, 'inclinado': 1, 'favorecer': 1, 'artes': 1, 'mayormente': 1, 'nobleza': 1, 'abaten': 1, 'granjerías': 1, 'determinado': 1, 'abrigo': 1, 'clarísimo': 1, 'acatamiento': 1, 'debo': 1, 'tanta': 1, 'grandeza': 1, 'suplico': 1, 'reciba': 1, 'agradablemente': 1, 'protección': 1, 'desnudo': 1, 'precioso': 1, 'ornamento': 1, 'elegancia': 1, 'andar': 1, 'vestidas': 1, 'componen': 1, 'casas': 1, 'saben': 1, 'ose': 1, 'juicio': 1, 'continiéndose': 1, 'límites': 1, 'ignorancia': 1, 'condenar': 1, 'rigor': 1, 'justicia': 1, 'trabajos': 1, 'ajenos': 1, 'prudencia': 1, 'deseo': 1, 'fío': 1, 'desdeñará': 1, 'cortedad': 1, 'humilde': 1, 'desocupado': 1, 'juramento': 1, 'podrás': 1, 'creer': 1, 'fuera': 1, 'hermoso': 1, 'gallardo': 1, 'pudiera': 1, 'imaginarse': 1, 'podido': 1, 'contravenir': 1, 'orden': 1, 'naturaleza': 1, 'engendra': 1, 'semejante': 1, 'podrá': 1, 'engendrar': 1, 'estéril': 1, 'cultivado': 1, 'seco': 1, 'avellanado': 1, 'antojadizo': 1, 'lleno': 1, 'varios': 1, 'imaginados': 1, 'engendró': 1, 'cárcel': 1, 'incomodidad': 1, 'asiento': 1, 'triste': 1, 'ruido': 1, 'habitación': 1, 'sosiego': 1, 'apacible': 1, 'amenidad': 1, 'campos': 1, 'serenidad': 1, 'cielos': 1, 'murmurar': 1, 'fuentes': 1, 'quietud': 1, 'espíritu': 1, 'musas': 1, 'estériles': 1, 'muestren': 1, 'fecundas': 1, 'ofrezcan': 1, 'partos': 1, 'colmen': 1, 'maravilla': 1, 'acontece': 1, 'feo': 1, 'gracia': 1, 'pone': 1, 'venda': 1, 'juzga': 1, 'discreciones': 1, 'lindezas': 1, 'agudezas': 1, 'donaires': 1, 'parezco': 1, 'padrastro': 1, 'irme': 1, 'corriente': 1, 'uso': 1, 'suplicarte': 1, 'lágrimas': 1, 'carísimo': 1, 'perdones': 1, 'disimules': 1, 'vieres': 1, 'pariente': 1, 'tienes': 1, 'alma': 1, 'cuerpo': 1, 'albedrío': 1, 'estás': 1, 'alcabalas': 1, 'sabes': 1, 'comúnmente': 1, 'dice': 1, 'manto': 1, 'mato': 1, 'esenta': 1, 'respecto': 1, 'obligación': 1, 'puedes': 1, 'aquello': 1, 'pareciere': 1, 'calunien': 1, 'premien': 1, 'dijeres': 1, 'dártela': 1, 'monda': 1, 'desnuda': 1, 'ornato': 1, 'inumerabilidad': 1, 'acostumbrados': 1, 'ponerse': 1, 'costó': 1, 'componerla': 1, 'tuve': 1, 'mayor': 1, 'prefación': 1, 'vas': 1, 'tomé': 1, 'escribille': 1, 'dejé': 1, 'escribiría': 1, 'suspenso': 1, 'delante': 1, 'oreja': 1, 'codo': 1, 'bufete': 1, 'mejilla': 1, 'pensando': 1, 'diría': 1, 'entró': 1, 'deshora': 1, 'gracioso': 1, 'entendido': 1, 'viéndome': 1, 'imaginativo': 1, 'preguntó': 1, 'encubriéndosela': 1, 'dije': 1, 'pensaba': 1, 'tenía': 1, 'quería': 1, 'hacerle': 1, 'hazañas': 1, 'confuso': 1, 'antiguo': 1, 'legislador': 1, 'llaman': 1, 'cabo': 1, 'duermo': 1, 'olvido': 1, 'salgo': 1, 'mis': 1, 'cuestas': 1, 'leyenda': 1, 'seca': 1, 'esparto': 1, 'ajena': 1, 'menguada': 1, 'estilo': 1, 'pobre': 1, 'concetos': 1, 'doctrina': 1, 'profanos': 1, 'llenos': 1, 'platón': 1, 'admiran': 1, 'leyentes': 1, 'leídos': 1, 'eruditos': 1, 'elocuentes': 1, 'citan': 1, 'dirán': 1, 'unos': 1, 'tomases': 1, 'doctores': 1, 'iglesia': 1, 'guardando': 1, 'decoro': 1, 'renglón': 1, 'destraído': 1, 'sermoncico': 1, 'regalo': 1, 'oílle': 1, 'leelle': 1, 'tengo': 1, 'acotar': 1, 'anotar': 1, 'sigo': 1, 'ponerlos': 1, 'b': 1, 'c': 1, 'comenzando': 1, 'acabando': 1, 'xenofonte': 1, 'zoílo': 1, 'zeuxis': 1, 'maldiciente': 1, 'uno': 1, 'pintor': 1, 'cuyos': 1, 'duques': 1, 'marqueses': 1, 'condes': 1, 'obispos': 1, 'celebérrimos': 1, 'pidiese': 1, 'oficiales': 1, 'darían': 1, 'les': 1, 'igualasen': 1, 'españa': 1, 'proseguí': 1, 'determino': 1, 'quede': 1, 'sepultado': 1, 'archivos': 1, 'depare': 1, 'adorne': 1, 'tantas': 1, 'hallo': 1, 'incapaz': 1, 'remediarlas': 1, 'insuficiencia': 1, 'pocas': 1, 'naturalmente': 1, 'poltrón': 1, 'perezoso': 1, 'andarme': 1, 'buscando': 1, 'digan': 1, 'ellos': 1, 'suspensión': 1, 'elevamiento': 1, 'hallastes': 1, 'bastante': 1, 'ponerme': 1, 'oído': 1, 'dándose': 1, 'palmada': 1, 'frente': 1, 'disparando': 1, 'carga': 1, 'hermano': 1, 'acabo': 1, 'desengañar': 1, 'engaño': 1, 'estado': 1, 'conozco': 1, 'siempre': 1, 'tenido': 1, 'aciones': 1, 'estáis': 1, 'lejos': 1, 'tierra': 1, 'momento': 1, 'fáciles': 1, 'puedan': 1, 'fuerzas': 1, 'suspender': 1, 'absortar': 1, 'maduro': 1, 'romper': 1, 'atropellar': 1, 'mayores': 1, 'habilidad': 1, 'sobra': 1, 'pereza': 1, 'penuria': 1, 'discurso': 1, 'ver': 1, 'digo': 1, 'estadme': 1, 'atento': 1, 'veréis': 1, 'abrir': 1, 'cerrar': 1, 'confundo': 1, 'suspenden': 1, 'acobardan': 1, 'dejar': 1, 'espejo': 1, 'caballería': 1, 'andante': 1, 'decid': 1, 'repliqué': 1, 'pensáis': 1, 'llenar': 1, 'vacío': 1, 'reducir': 1, 'claridad': 1, 'caos': 1, 'confusión': 1, 'reparáis': 1, 'personajes': 1, 'graves': 1, 'título': 1, 'puede': 1, 'toméis': 1, 'hacerlos': 1, 'después': 1, 'bautizar': 1, 'quisiéredes': 1, 'ahijándolos': 1, 'preste': 1, 'indias': 1, 'emperador': 1, 'trapisonda': 1, 'noticia': 1, 'fueron': 1, 'famosos': 1, 'hayan': 1, 'sido': 1, 'pedantes': 1, 'bachilleres': 1, 'detrás': 1, 'muerdan': 1, 'murmuren': 1, 'ya': 1, 'averigüen': 1, 'cortar': 1, 'escribistes': 1, 'sacáredes': 1, 'pusiéredes': 1, 'venga': 1, 'pelo': 1, 'algunas': 1, 'memoria': 1, 'cuesten': 1, 'buscalle': 1, 'tratando': 1, 'libertad': 1, 'cautiverio': 1, 'non': 1, 'bene': 1, 'pro': 1, 'toto': 1, 'libertas': 1, 'venditur': 1, 'auro': 1, 'horacio': 1, 'muerte': 1, 'acudir': 1, 'pallida': 1, 'mors': 1, 'aequo': 1, 'pulsat': 1, 'pede': 1, 'pauperum': 1, 'tabernas': 1, 'regumque': 1, 'turres': 1, 'amistad': 1, 'manda': 1, 'enemigo': 1, 'entraros': 1, 'punto': 1, 'tantico': 1, 'curiosidad': 1, 'ego': 1, 'autem': 1, 'dico': 1, 'vobis': 1, 'diligite': 1, 'inimicos': 1, 'vestros': 1, 'malos': 1, 'acudid': 1, 'evangelio': 1, 'corde': 1, 'exeunt': 1, 'cogitationes': 1, 'malae': 1, 'instabilidad': 1, 'catón': 1, 'dístico': 1, 'donec': 1, 'felix': 1, 'multos': 1, 'numerabis': 1, 'amicos': 1, 'tempora': 1, 'fuerint': 1, 'nubila': 1, 'solus': 1, 'latinicos': 1, 'tendrán': 1, 'siquiera': 1, 'gramático': 1, 'provecho': 1, 'hoy': 1, 'toca': 1, 'nombráis': 1, 'hacelde': 1, 'costará': 1, 'goliat': 1, 'filisteo': 1, 'pastor': 1, 'david': 1, 'mató': 1, 'pedrada': 1, 'valle': 1, 'terebinto': 1, 'según': 1, 'reyes': 1, 'capítulo': 1, 'halláredes': 1, 'tras': 1, 'mostraros': 1, 'erudito': 1, 'humanas': 1, 'cosmógrafo': 1, 'haced': 1, 'veréisos': 1, 'españas': 1, 'nacimiento': 1, 'muere': 1, 'mar': 1, 'océano': 1, 'besando': 1, 'muros': 1, 'ciudad': 1, 'lisboa': 1, 'arenas': 1, 'oro': 1, 'etc': 1, 'ladrones': 1, 'diré': 1, 'caco': 1, 'coro': 1, 'mujeres': 1, 'rameras': 1, 'obispo': 1, 'mondoñedo': 1, 'lamia': 1, 'laida': 1, 'flora': 1, 'crédito': 1, 'crueles': 1, 'ovidio': 1, 'entregará': 1, 'medea': 1, 'encantadores': 1, 'hechiceras': 1, 'homero': 1, 'calipso': 1, 'virgilio': 1, 'circe': 1, 'capitanes': 1, 'valerosos': 1, 'julio': 1, 'césar': 1, 'sí': 1, 'comentarios': 1, 'plutarco': 1, 'alejandros': 1, 'amores': 1, 'onzas': 1, 'lengua': 1, 'toscana': 1, 'toparéis': 1, 'león': 1, 'hebreo': 1, 'hincha': 1, 'andaros': 1, 'tierras': 1, 'extrañas': 1, 'fonseca': 1, 'cifra': 1, 'acertare': 1, 'desear': 1, 'materia': 1, 'resolución': 1, 'procuréis': 1, 'nombrar': 1, 'nombres': 1, 'tocar': 1, 'estas': 1, 'historias': 1, 'dejadme': 1, 'cargo': 1, 'voto': 1, 'llenaros': 1, 'gastar': 1, 'vengamos': 1, 'citación': 1, 'fácil': 1, 'buscar': 1, 'acote': 1, 'z': 1, 'ese': 1, 'abecedario': 1, 'pondréis': 1, 'puesto': 1, 'clara': 1, 'teníades': 1, 'aprovecharos': 1, 'importa': 1, 'quizá': 1, 'crea': 1, 'aprovechado': 1, 'sencilla': 1, 'sirva': 1, 'servirá': 1, 'improviso': 1, 'averiguar': 1, 'yéndole': 1, 'ello': 1, 'caigo': 1, 'ninguna': 1, 'aquellas': 1, 'invectiva': 1, 'contra': 1, 'acordó': 1, 'san': 1, 'basilio': 1, 'cicerón': 1, 'caen': 1, 'disparates': 1, 'puntualidades': 1, 'observaciones': 1, 'astrología': 1, 'importancia': 1, 'geométricas': 1, 'confutación': 1, 'argumentos': 1, 'sirve': 1, 'retórica': 1, 'predicar': 1, 'mezclando': 1, 'humano': 1, 'divino': 1, 'género': 1, 'mezcla': 1, 'vestir': 1, 'ningún': 1, 'aprovecharse': 1, 'imitación': 1, 'escribiendo': 1, 'perfecta': 1, 'mejor': 1, 'escribiere': 1, 'deshacer': 1, 'cabida': 1, 'andéis': 1, 'mendigando': 1, 'consejos': 1, 'fábulas': 1, 'oraciones': 1, 'retóricos': 1, 'milagros': 1, 'procurar': 1, 'significantes': 1, 'honestas': 1, 'colocadas': 1, 'salga': 1, 'oración': 1, 'período': 1, 'sonoro': 1, 'festivo': 1, 'pintando': 1, 'alcanzáredes': 1, 'intención': 1, 'dando': 1, 'entender': 1, 'vuestros': 1, 'conceptos': 1, 'intricarlos': 1, 'escurecerlos': 1, 'procurad': 1, 'melancólico': 1, 'mueva': 1, 'risueño': 1, 'acreciente': 1, 'enfade': 1, 'admire': 1, 'grave': 1, 'desprecie': 1, 'deje': 1, 'alabarla': 1, 'efecto': 1, 'llevad': 1, 'puesta': 1, 'derribar': 1, 'máquina': 1, 'fundada': 1, 'caballerescos': 1, 'aborrecidos': 1, 'alabados': 1, 'alcanzásedes': 1, 'habríades': 1, 'alcanzado': 1, 'estuve': 1, 'escuchando': 1, 'imprimieron': 1, 'razones': 1, 'ponerlas': 1, 'disputa': 1, 'aprobé': 1, 'ellas': 1, 'mismas': 1, 'quise': 1, 'suave': 1, 'discreción': 1, 'ventura': 1, 'mía': 1, 'necesitado': 1, 'consejero': 1, 'alivio': 1, 'tuyo': 1, 'sincera': 1, 'revueltas': 1, 'habitadores': 1, 'distrito': 1, 'campo': 1, 'montiel': 1, 'casto': 1, 'valiente': 1, 'contornos': 1, 'encarecerte': 1, 'hago': 1, 'darte': 1, 'conocer': 1, 'honrado': 1, 'agradezcas': 1, 'conocimiento': 1, 'tendrás': 1, 'sancho': 1, 'panza': 1, 'escudero': 1, 'cifradas': 1, 'gracias': 1, 'escuderiles': 1, 'vanos': 1, 'esparcidas': 1, 'salud': 1, 'olvide': 1, 'vale': 1, 'urganda': 1, 'desconocida': 1, 'llegarte': 1, 'bue': 1, 'fueres': 1, 'boquirru': 1, 'pones': 1, 'pan': 1, 'cue': 1, 'ir': 1, 'idio': 1, 'aun': 1, 'cla': 1, 'comen': 1, 'mostrar': 1, 'curio': 1, 'expiriencia': 1, 'ense': 1, 'arri': 1, 'cobi': 1, 'estre': 1, 'real': 1, 'ofre': 1, 'da': 1, 'príncipes': 1, 'fru': 1, 'floreció': 1, 'du': 1, 'nuevo': 1, 'alejandro': 1, 'llega': 1, 'osa': 1, 'favorece': 1, 'manche': 1, 'contarás': 1, 'aventu': 1, 'ociosas': 1, 'trastornaron': 1, 'cabe': 1, 'armas': 1, 'caballe': 1, 'provocaron': 1, 'mo': 1, 'orlando': 1, 'furio': 1, 'templado': 1, 'enamora': 1, 'fuerza': 1, 'bra': 1, 'dulcinea': 1, 'tobo': 1, 'indiscretos': 1, 'hieroglí': 1, 'estampes': 1, 'escu': 1, 'figu': 1, 'ruines': 1, 'puntos': 1, 'envi': 1, 'dirección': 1, 'humi': 1, 'mofante': 1, 'algu': 1, 'álvaro': 1, 'lu': 1, 'anibal': 1, 'carta': 1, 'espa': 1, 'queja': 1, 'plu': 1, 'salieses': 1, 'ladi': 1, 'negro': 1, 'lati': 1, 'hablar': 1, 'rehú': 1, 'despuntes': 1, 'agu': 1, 'alegues': 1, 'filó': 1, 'torciendo': 1, 'entiende': 1, 'palmo': 1, 'ore': 1, 'conmigo': 1, 'flo': 1, 'metas': 1, 'dibu': 1, 'vidas': 1, 'aje': 1, 'vie': 1, 'pasar': 1, 'cordu': 1, 'caperu': 1, 'darles': 1, 'grace': 1, 'tú': 1, 'quémate': 1, 'ce': 1, 'cobrar': 1, 'fa': 1, 'imprime': 1, 'neceda': 1, 'dalas': 1, 'censo': 1, 'perpe': 1, 'advierte': 1, 'desati': 1, 'siendo': 1, 'vidrio': 1, 'teja': 1, 'tomar': 1, 'piedras': 1, 'tirar': 1, 'veci': 1, 'deja': 1, 'jui': 1, 'compo': 1, 'vaya': 1, 'pies': 1, 'plo': 1, 'saca': 1, 'pape': 1, 'entretener': 1, 'donce': 1, 'tontas': 1, 'amadís': 1, 'gaula': 1})\n"
     ]
    },
    {
     "ename": "AssertionError",
     "evalue": "",
     "output_type": "error",
     "traceback": [
      "\u001b[1;31m---------------------------------------------------------------------------\u001b[0m",
      "\u001b[1;31mAssertionError\u001b[0m                            Traceback (most recent call last)",
      "\u001b[1;32m<ipython-input-22-b7dbec9ea7ac>\u001b[0m in \u001b[0;36m<module>\u001b[1;34m\u001b[0m\n\u001b[0;32m     56\u001b[0m             for wrong in wrongs.split()]\n\u001b[0;32m     57\u001b[0m \u001b[1;33m\u001b[0m\u001b[0m\n\u001b[1;32m---> 58\u001b[1;33m \u001b[0mprint\u001b[0m\u001b[1;33m(\u001b[0m\u001b[0munit_tests\u001b[0m\u001b[1;33m(\u001b[0m\u001b[1;33m)\u001b[0m\u001b[1;33m)\u001b[0m\u001b[1;33m\u001b[0m\u001b[0m\n\u001b[0m\u001b[0;32m     59\u001b[0m \u001b[0mspelltest\u001b[0m\u001b[1;33m(\u001b[0m\u001b[0mTestset\u001b[0m\u001b[1;33m(\u001b[0m\u001b[0mopen\u001b[0m\u001b[1;33m(\u001b[0m\u001b[1;34m'spell-testset1.txt'\u001b[0m\u001b[1;33m)\u001b[0m\u001b[1;33m)\u001b[0m\u001b[1;33m)\u001b[0m \u001b[1;31m# Development set\u001b[0m\u001b[1;33m\u001b[0m\u001b[0m\n\u001b[0;32m     60\u001b[0m \u001b[0mspelltest\u001b[0m\u001b[1;33m(\u001b[0m\u001b[0mTestset\u001b[0m\u001b[1;33m(\u001b[0m\u001b[0mopen\u001b[0m\u001b[1;33m(\u001b[0m\u001b[1;34m'spell-testset2.txt'\u001b[0m\u001b[1;33m)\u001b[0m\u001b[1;33m)\u001b[0m\u001b[1;33m)\u001b[0m \u001b[1;31m# Final test set\u001b[0m\u001b[1;33m\u001b[0m\u001b[0m\n",
      "\u001b[1;32m<ipython-input-22-b7dbec9ea7ac>\u001b[0m in \u001b[0;36munit_tests\u001b[1;34m()\u001b[0m\n\u001b[0;32m      1\u001b[0m \u001b[1;32mdef\u001b[0m \u001b[0munit_tests\u001b[0m\u001b[1;33m(\u001b[0m\u001b[1;33m)\u001b[0m\u001b[1;33m:\u001b[0m\u001b[1;33m\u001b[0m\u001b[0m\n\u001b[0;32m      2\u001b[0m     \u001b[1;32massert\u001b[0m \u001b[0mcorrection\u001b[0m\u001b[1;33m(\u001b[0m\u001b[1;34m'proocaron'\u001b[0m\u001b[1;33m)\u001b[0m \u001b[1;33m==\u001b[0m \u001b[1;34m'provocaron'\u001b[0m              \u001b[1;31m# insert\u001b[0m\u001b[1;33m\u001b[0m\u001b[0m\n\u001b[1;32m----> 3\u001b[1;33m     \u001b[1;32massert\u001b[0m \u001b[0mcorrection\u001b[0m\u001b[1;33m(\u001b[0m\u001b[1;34m'korrectud'\u001b[0m\u001b[1;33m)\u001b[0m \u001b[1;33m==\u001b[0m \u001b[1;34m'corrected'\u001b[0m           \u001b[1;31m# replace 2\u001b[0m\u001b[1;33m\u001b[0m\u001b[0m\n\u001b[0m\u001b[0;32m      4\u001b[0m     \u001b[1;32massert\u001b[0m \u001b[0mcorrection\u001b[0m\u001b[1;33m(\u001b[0m\u001b[1;34m'bycycle'\u001b[0m\u001b[1;33m)\u001b[0m \u001b[1;33m==\u001b[0m \u001b[1;34m'bicycle'\u001b[0m               \u001b[1;31m# replace\u001b[0m\u001b[1;33m\u001b[0m\u001b[0m\n\u001b[0;32m      5\u001b[0m     \u001b[1;32massert\u001b[0m \u001b[0mcorrection\u001b[0m\u001b[1;33m(\u001b[0m\u001b[1;34m'inconvient'\u001b[0m\u001b[1;33m)\u001b[0m \u001b[1;33m==\u001b[0m \u001b[1;34m'inconvenient'\u001b[0m       \u001b[1;31m# insert 2\u001b[0m\u001b[1;33m\u001b[0m\u001b[0m\n",
      "\u001b[1;31mAssertionError\u001b[0m: "
     ]
    }
   ],
   "source": [
    "def unit_tests():\n",
    "    assert correction('proocaron') == 'provocaron'              # insert\n",
    "    \"\"\" \n",
    "    assert correction('korrectud') == 'corrected'           # replace 2\n",
    "    assert correction('bycycle') == 'bicycle'               # replace\n",
    "    assert correction('inconvient') == 'inconvenient'       # insert 2\n",
    "    assert correction('arrainged') == 'arranged'            # delete\n",
    "    assert correction('peotry') =='poetry'                  # transpose\n",
    "    assert correction('peotryy') =='poetry'                 # transpose + delete\n",
    "    assert correction('word') == 'word'                     # known\n",
    "    assert correction('quintessential') == 'quintessential' # unknown\n",
    "    assert words('This is a TEST.') == ['this', 'is', 'a', 'test']\n",
    "    assert Counter(words('This is a test. 123; A TEST this is.')) == (\n",
    "           Counter({'123': 1, 'a': 2, 'is': 2, 'test': 2, 'this': 2}))\n",
    "    assert len(WORDS) == 32192\n",
    "    assert sum(WORDS.values()) == 1115504\n",
    "    assert WORDS.most_common(10) == [\n",
    "     ('the', 79808),\n",
    "     ('of', 40024),\n",
    "     ('and', 38311),\n",
    "     ('to', 28765),\n",
    "     ('in', 22020),\n",
    "     ('a', 21124),\n",
    "     ('that', 12512),\n",
    "     ('he', 12401),\n",
    "     ('was', 11410),\n",
    "     ('it', 10681)]\n",
    "    assert WORDS['the'] == 79808\n",
    "    assert P('quintessential') == 0\n",
    "    assert 0.07 < P('the') < 0.08\n",
    "    return 'unit_tests pass'\n",
    "    \"\"\"\n",
    "\n",
    "def spelltest(tests, verbose=False):\n",
    "    \"Run correction(wrong) on all (right, wrong) pairs; report results.\"\n",
    "    import time\n",
    "    start = time.clock()\n",
    "    good, unknown = 0, 0\n",
    "    n = len(tests)\n",
    "    for right, wrong in tests:\n",
    "        w = correction(wrong)\n",
    "        good += (w == right)\n",
    "        if w != right:\n",
    "            unknown += (right not in WORDS)\n",
    "            if verbose:\n",
    "                print('correction({}) => {} ({}); expected {} ({})'\n",
    "                      .format(wrong, w, WORDS[w], right, WORDS[right]))\n",
    "    dt = time.clock() - start\n",
    "    print('{:.0%} of {} correct ({:.0%} unknown) at {:.0f} words per second '\n",
    "          .format(good / n, n, unknown / n, n / dt))\n",
    "    \n",
    "def Testset(lines):\n",
    "    \"Parse 'right: wrong1 wrong2' lines into [('right', 'wrong1'), ('right', 'wrong2')] pairs.\"\n",
    "    return [(right, wrong)\n",
    "            for (right, wrongs) in (line.split(':') for line in lines)\n",
    "            for wrong in wrongs.split()]\n",
    "\n",
    "print(unit_tests())\n",
    "spelltest(Testset(open('spell-testset1.txt'))) # Development set\n",
    "spelltest(Testset(open('spell-testset2.txt'))) # Final test set"
   ]
  },
  {
   "attachments": {},
   "cell_type": "markdown",
   "metadata": {},
   "source": [
    "# Conclusiones\n",
    "___\n",
    "Me diverti mucho. El algoritmo es elegante pues con pocas lineas de codigo logra cosas sorprendentes. Esto en gran parte a las expresiones regulares, pues con una sola instruccion hace operaciones que conlleban bastante trabajo. \n",
    "\n",
    "El alcance de cada funcion esta bien definido y se puede entender lo que hace por medio de su nombre.\n",
    "\n",
    "Aunque el texto utilizado fue el Quijote, hay que reconocerle a este texto la capacidad que tiene de encontrar patrones indistintibamente del lenjuage, pues funciona a partir de caracteres y *frecuencias*. \n",
    "\n",
    "Aun asi, el paso de añadir el token \\<\\w\\> al final de cada palabra reafirma el pensamiento de que siempre se necesitara la intervencion del humano aunque sea para hacer una clasificacion minima de las palabras.    \n"
   ]
  }
 ],
 "metadata": {
  "kernelspec": {
   "display_name": "Python 3",
   "language": "python",
   "name": "python3"
  },
  "language_info": {
   "codemirror_mode": {
    "name": "ipython",
    "version": 3
   },
   "file_extension": ".py",
   "mimetype": "text/x-python",
   "name": "python",
   "nbconvert_exporter": "python",
   "pygments_lexer": "ipython3",
   "version": "3.6.2"
  },
  "vscode": {
   "interpreter": {
    "hash": "9c43f423247bd0c67f6de4973e7e9f0055dbd5fe8e4d93d86b635664657df2b2"
   }
  }
 },
 "nbformat": 4,
 "nbformat_minor": 2
}
